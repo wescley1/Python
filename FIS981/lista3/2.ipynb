{
 "cells": [
  {
   "cell_type": "markdown",
   "metadata": {},
   "source": [
    "## Problema 2\n",
    "\n",
    "Existe um ponto especial entre a Terra e a Lua, chamado de ponto de Lagrange $L_1$ . Neste ponto um corpo orbitaria a Terra em perfeita sincronia com a Lua, ficando sempre entre as duas. Isso ocorre porque a atração da Terra combinada com a da Lua exercem a força exata para manter o satélite nessa posição. Assumindo órbitas circulares pode-se mostrar que a distância $r$ do ponto $L_1$ da Terra satisfaz:\n",
    "\n",
    "$$\\frac{GM}{r^2} - \\frac{Gm}{(R-r)^2} = \\omega ^2 r$$\n",
    "\n",
    "onde $M$ e $m$ são as massas da Terra e Lua respectivamente, $G$ a constante gravitacional e $\\omega$ a velocidade angular da Lua.\n",
    "\n",
    "\n",
    "(a) escreva um programa que usa o método da secante para achar a distância $r$ do ponto $L_1$. Compute a solução com uma precisão de pelo menos 4 casas decimais.\n",
    "\n",
    "(b) obtenha a mesma solução usando alguma das funções padrões do Python e compare com a sua solução do item acima."
   ]
  },
  {
   "cell_type": "code",
   "execution_count": 3,
   "metadata": {
    "collapsed": false
   },
   "outputs": [
    {
     "name": "stdout",
     "output_type": "stream",
     "text": [
      "Número de iterações: 16\n",
      "A solução é: 326942165.143106\n"
     ]
    }
   ],
   "source": [
    "# Definindo as constantes do problema \n",
    "\n",
    "MTerra = 5.972e24 # Massa da Terra\n",
    "MLua = 7.342e22 # Massa da Lua\n",
    "wLua = 2.65e-6 # Velocidade angular da Lua\n",
    "constG = 6.67408e-11 # Constante gravitacional\n",
    "RTerra = 3.844e8 # Distância Terra-Lua\n",
    "\n",
    "# Implementação do método da secante\n",
    "def secante(f, x0, x1, eps):\n",
    "    f_x0 = f(x0) # f(x) aplicada em x0\n",
    "    f_x1 = f(x1) # f(x) aplicada em x1\n",
    "    cont = 0 # Contador de iterações \n",
    "    x = 0\n",
    "    while abs(f_x1) > eps and cont < 100:\n",
    "        try:\n",
    "            denominador = float(f_x1 - f_x0)/(x1 - x0)\n",
    "            x = x1 - float(f_x1)/denominador\n",
    "        except divisaoZero:\n",
    "            print (\"Erro, divisão por zero com x = \", x)\n",
    "            sys.exit(1)     # Sai do programa com erro\n",
    "        x0 = x1\n",
    "        x1 = x\n",
    "        f_x0 = f_x1\n",
    "        f_x1 = f(x1)\n",
    "        cont += 1\n",
    "    # Aqui, ou o programa encontra a solução,\n",
    "    # ou passa por muitas iterações\n",
    "    if abs(f_x1) > eps:\n",
    "        cont = -1\n",
    "    return (x, cont)\n",
    "\n",
    "# Definição da função para encontrar L1\n",
    "\n",
    "def f(x): \n",
    "    return (constG*MTerra)/(x**2) - (constG*MLua)/((RTerra - x)**2) - (wLua**2)*x \n",
    "\n",
    "# Definindo os dois valores iniciais\n",
    "x0 = 1.0e7\n",
    "x1 = x0 - 10.\n",
    "\n",
    "sol, num = secante(f, x0, x1, eps=1.0e-4)\n",
    "\n",
    "if num > 0:    # Condiçao para solução\n",
    "    print (\"Número de iterações: %d\" % (2 + num))\n",
    "    print (\"A solução é: %f\" % (sol))\n",
    "else:\n",
    "    print (\"Nenhuma solução encontrada!\")\n"
   ]
  },
  {
   "cell_type": "code",
   "execution_count": 4,
   "metadata": {
    "collapsed": false,
    "scrolled": true
   },
   "outputs": [
    {
     "name": "stdout",
     "output_type": "stream",
     "text": [
      "A solução é: 326305373.879569\n"
     ]
    }
   ],
   "source": [
    "# Importando o método de Newton do Scipy\n",
    "from scipy.optimize import newton as nwt\n",
    "\n",
    "# Aplicando para obter a solução\n",
    "sol2 = nwt(f,x0,tol=1.0e4)\n",
    "print(\"A solução é: %f\" %(sol2))"
   ]
  },
  {
   "cell_type": "markdown",
   "metadata": {},
   "source": [
    "Comparando os dois resultados teremos:"
   ]
  },
  {
   "cell_type": "code",
   "execution_count": 6,
   "metadata": {
    "collapsed": false
   },
   "outputs": [
    {
     "name": "stdout",
     "output_type": "stream",
     "text": [
      "A razão entre os resultados é:  1.0019515193880084\n"
     ]
    }
   ],
   "source": [
    "print(\"A razão entre os resultados é: \", sol/sol2)"
   ]
  },
  {
   "cell_type": "markdown",
   "metadata": {
    "collapsed": true
   },
   "source": [
    "Como a razão é proxima de 1, podemos considerar a solução como válida."
   ]
  }
 ],
 "metadata": {
  "anaconda-cloud": {},
  "kernelspec": {
   "display_name": "Python [default]",
   "language": "python",
   "name": "python3"
  },
  "language_info": {
   "codemirror_mode": {
    "name": "ipython",
    "version": 3
   },
   "file_extension": ".py",
   "mimetype": "text/x-python",
   "name": "python",
   "nbconvert_exporter": "python",
   "pygments_lexer": "ipython3",
   "version": "3.5.2"
  }
 },
 "nbformat": 4,
 "nbformat_minor": 2
}
