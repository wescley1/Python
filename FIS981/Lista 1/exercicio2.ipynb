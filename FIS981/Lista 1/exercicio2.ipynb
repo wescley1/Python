{
 "cells": [
  {
   "cell_type": "markdown",
   "metadata": {},
   "source": [
    "# Exercicio 2\n",
    "Um satélite será lançado em uma órbita circular ao redor da Terra para que ele orbita\n",
    "o planeta uma vez a cada T segundos.\n",
    "\n",
    "(a) (opcional) Mostre que a altitude h acima da superfície da Terra que o satélite deve ter é $h =\n",
    "(\\frac{GMT^2}{4\\pi^2})^{\\frac{1}{3}} - R$, onde $G = 6,67 \\times 10^{-11}m^3kg^{-1}s^{-2}$ é constante gravitacional de Newton, $M = 5,97\\times10^{24}kg$ é a massa da Terra, e $R = 6,371km$ é o seu raio. (dica: use as relações do mov.\n",
    "circular)\n",
    "\n",
    "(b) Escreva um programa que pede ao usuário para inserir o valor desejado de T e, em seguida, calcula\n",
    "e imprime a altitude correta em metros.\n",
    "\n",
    "(c) Use o seu programa para calcular as altitudes dos satélites que orbitam a Terra uma vez por dia (os\n",
    "chamados órbita \"geoestacionária\"), uma vez a cada 90 minutos, e uma vez a cada 45 minutos. O\n",
    "que você conclui a partir do último desses cálculos?\n",
    "\n",
    "Para iniciarmos o programa vamos definir as constantes envolvidas no problema:"
   ]
  },
  {
   "cell_type": "code",
   "execution_count": 2,
   "metadata": {
    "collapsed": true
   },
   "outputs": [],
   "source": [
    "G = 6.67*10**(-11)\n",
    "M = 5.97*10**(24)\n",
    "R = 6371000"
   ]
  },
  {
   "cell_type": "markdown",
   "metadata": {},
   "source": [
    "Em seguida, podemos atribuir o valor do período em segundos à uma variável T já convertendo para um número de ponto flutuante."
   ]
  },
  {
   "cell_type": "code",
   "execution_count": 15,
   "metadata": {
    "collapsed": false
   },
   "outputs": [
    {
     "name": "stdout",
     "output_type": "stream",
     "text": [
      "Entre com o valor do período(em segundos) 5063.39\n"
     ]
    }
   ],
   "source": [
    "T = float(input(\"Entre com o valor do período(em segundos) \"))"
   ]
  },
  {
   "cell_type": "markdown",
   "metadata": {},
   "source": [
    "Após isso, basta realizar o cálculo necessário e atribuí-lo à uma variável."
   ]
  },
  {
   "cell_type": "code",
   "execution_count": 16,
   "metadata": {
    "collapsed": true
   },
   "outputs": [],
   "source": [
    "h = (((G * M * T**2)/(4*3.14159**2))**(1/3) - R)/1000"
   ]
  },
  {
   "cell_type": "markdown",
   "metadata": {},
   "source": [
    "Para resultar em um valor mais apresentável, podemos utilizar a função round."
   ]
  },
  {
   "cell_type": "code",
   "execution_count": 17,
   "metadata": {
    "collapsed": true
   },
   "outputs": [],
   "source": [
    "h = round(h,2)"
   ]
  },
  {
   "cell_type": "markdown",
   "metadata": {},
   "source": [
    "Por fim, apenas imprimir o resultado"
   ]
  },
  {
   "cell_type": "code",
   "execution_count": 18,
   "metadata": {
    "collapsed": false
   },
   "outputs": [
    {
     "name": "stdout",
     "output_type": "stream",
     "text": [
      "A altitude do satélite será 0.01 km\n"
     ]
    }
   ],
   "source": [
    "print(\"A altitude do satélite será\",h,\"km\")"
   ]
  },
  {
   "cell_type": "markdown",
   "metadata": {},
   "source": [
    "Para um período inferior 5063.39s o valor da altura será negativo pois para orbitar com um tempo inferior à esse, a distancia ao centro da terra deverá ser menor que seu próprio raio."
   ]
  }
 ],
 "metadata": {
  "anaconda-cloud": {},
  "kernelspec": {
   "display_name": "Python [default]",
   "language": "python",
   "name": "python3"
  },
  "language_info": {
   "codemirror_mode": {
    "name": "ipython",
    "version": 3
   },
   "file_extension": ".py",
   "mimetype": "text/x-python",
   "name": "python",
   "nbconvert_exporter": "python",
   "pygments_lexer": "ipython3",
   "version": "3.5.2"
  }
 },
 "nbformat": 4,
 "nbformat_minor": 1
}
