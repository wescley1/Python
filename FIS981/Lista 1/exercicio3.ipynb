{
 "cells": [
  {
   "cell_type": "markdown",
   "metadata": {},
   "source": [
    "# Exercício 3\n",
    "Na física nuclear, a fórmula de massa semiempírica é uma fórmula para o cálculo aproximado\n",
    "da energia B de ligação nuclear de um núcleo atômico com número atómico Z e número de massa\n",
    "A: \n",
    "\\begin{equation}\n",
    "B = a_1A - a_2A^{2/3} - a_3\\frac{Z^2}{A^{2/3}} - a_4\\frac{(A - 2Z)^2}{A} + \\frac{a_5}{A^{1/2}}\n",
    "\\end{equation}\n",
    "onde, em unidades de milhões de elétron-volts, as constantes são a1 = 15:67, a2 = 17:23, a3 = 0; 75,\n",
    "a14 = 93; 2, e\n",
    "\n",
    "$$\n",
    "a_5 =\n",
    "\\begin{cases}\n",
    "12.0 \\text{ se Z e A-Z são pares},\\\\\n",
    "-12.0 \\text{ se Z e A-Z são ímpares},\\\\\n",
    "0 \\text{ nos outros casos}\n",
    "\\end{cases}\n",
    "$$\n",
    "\n",
    "Escreva um programa que tem como entrada os valores de A e Z, e imprime a energia de ligação para o\n",
    "átomo correspondente. Use seu programa para encontrar a energia de ligação de um Um átomo com A\n",
    "= 58 e Z = 28. (A resposta correta é de cerca de 490MeV.)\n",
    "\n",
    "Para começarmos o programa, vamos definir as constantes presentes."
   ]
  },
  {
   "cell_type": "code",
   "execution_count": 1,
   "metadata": {
    "collapsed": true
   },
   "outputs": [],
   "source": [
    "a1 = 15.67\n",
    "a2 = 17.23\n",
    "a3 = 0.75\n",
    "a4 = 93.2"
   ]
  },
  {
   "cell_type": "markdown",
   "metadata": {},
   "source": [
    "A constante $a_5$ não poderá ser definida ainda pois depende dos valores de A e Z.\n",
    "Portanto, o próximo passo será receber esses valores e atribuí-los às suas variáveis."
   ]
  },
  {
   "cell_type": "code",
   "execution_count": 2,
   "metadata": {
    "collapsed": false
   },
   "outputs": [
    {
     "name": "stdout",
     "output_type": "stream",
     "text": [
      "Entre com o valor da massa do átomo: 58\n",
      "Entre com o número atomico do átomo: 28\n"
     ]
    }
   ],
   "source": [
    "A = int(input(\"Entre com o valor da massa do átomo: \"))\n",
    "Z = int(input(\"Entre com o número atomico do átomo: \"))"
   ]
  },
  {
   "cell_type": "markdown",
   "metadata": {},
   "source": [
    "Com os valores de massa e número atomico podemos definir a cosntante $a_5$."
   ]
  },
  {
   "cell_type": "code",
   "execution_count": 5,
   "metadata": {
    "collapsed": true
   },
   "outputs": [],
   "source": [
    "if ((Z%2 == 0) and ((A-Z)%2 == 0)):\n",
    "    a5 = int(12)\n",
    "elif ((Z%2 != 0) and ((A-Z)%2 != 0)):\n",
    "    a5 = int(-12)\n",
    "else:\n",
    "    a5 = int(0)\n"
   ]
  },
  {
   "cell_type": "markdown",
   "metadata": {},
   "source": [
    "E fazer o cálculo da energia de ligação."
   ]
  },
  {
   "cell_type": "code",
   "execution_count": 6,
   "metadata": {
    "collapsed": true
   },
   "outputs": [],
   "source": [
    "B = a1*A - a2*(A**(2/3)) - a3*(Z**2)/(A**(1/3)) - a4*((A-2*Z)**2)/(A) + a5/(A**(1/2))"
   ]
  },
  {
   "cell_type": "markdown",
   "metadata": {},
   "source": [
    "Para um número mais apresentável, também podemos arredondar o valor da energia para duas casas decimais."
   ]
  },
  {
   "cell_type": "code",
   "execution_count": 7,
   "metadata": {
    "collapsed": true
   },
   "outputs": [],
   "source": [
    "B = round(B,2)"
   ]
  },
  {
   "cell_type": "markdown",
   "metadata": {},
   "source": [
    "Por fim, basta imprimí-lo na tela."
   ]
  },
  {
   "cell_type": "code",
   "execution_count": 8,
   "metadata": {
    "collapsed": false
   },
   "outputs": [
    {
     "name": "stdout",
     "output_type": "stream",
     "text": [
      "A energia de ligação do átomo indicado será 493.94 MeV\n"
     ]
    }
   ],
   "source": [
    "print(\"A energia de ligação do átomo indicado será\",B,\"MeV\")"
   ]
  },
  {
   "cell_type": "code",
   "execution_count": null,
   "metadata": {
    "collapsed": true
   },
   "outputs": [],
   "source": []
  }
 ],
 "metadata": {
  "kernelspec": {
   "display_name": "Python [conda root]",
   "language": "python",
   "name": "conda-root-py"
  },
  "language_info": {
   "codemirror_mode": {
    "name": "ipython",
    "version": 3
   },
   "file_extension": ".py",
   "mimetype": "text/x-python",
   "name": "python",
   "nbconvert_exporter": "python",
   "pygments_lexer": "ipython3",
   "version": "3.5.2"
  }
 },
 "nbformat": 4,
 "nbformat_minor": 1
}
