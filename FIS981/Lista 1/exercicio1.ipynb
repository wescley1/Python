{
 "cells": [
  {
   "cell_type": "markdown",
   "metadata": {},
   "source": [
    "# Exercício 1\n",
    "Uma bola é lançada de uma torre de altura h. Ela tem velocidade inicial zero e acelera\n",
    "para baixo devido a gravidade. Escreva um programa que pede ao usuário que insira a altura em metros\n",
    "da torre e, em seguida, calcula e imprime o tempo em segundos até que a bola bata no chão, ignorando\n",
    "a resistência do ar. Use seu programa para calcular o tempo para uma bola que cai de uma torre de\n",
    "100m."
   ]
  },
  {
   "cell_type": "markdown",
   "metadata": {},
   "source": [
    "Para isso, primeiro será necessário fazer a entrada de dados. O valor da altura será atribuído à variavél h."
   ]
  },
  {
   "cell_type": "code",
   "execution_count": 1,
   "metadata": {
    "collapsed": false
   },
   "outputs": [
    {
     "name": "stdout",
     "output_type": "stream",
     "text": [
      "Entre com a altura da torre(em metros)100\n"
     ]
    }
   ],
   "source": [
    "h = int(input(\"Entre com a altura da torre(em metros)\"))"
   ]
  },
  {
   "cell_type": "markdown",
   "metadata": {},
   "source": [
    " Partindo da equação horária de movimento x(t) = x0 + x'(t)*t + x''(t)*t^2/2, pode-se considerar\n",
    " a altura da torre como x(t) quando t = tfinal. desta forma, o tempo total para a bola chegar ao chão\n",
    " será a equação acima resolvida para o tempo da forma: $t_{final} = \\sqrt{\\frac{2h}{g}}$\n",
    " Aproximando-se g de 9.8$\\frac{m}{s^2}$ tem-se:"
   ]
  },
  {
   "cell_type": "code",
   "execution_count": 7,
   "metadata": {
    "collapsed": false
   },
   "outputs": [
    {
     "name": "stdout",
     "output_type": "stream",
     "text": [
      "O tempo que a bola levará para chegar até o chão será 4.5175395145262565 segundos\n"
     ]
    }
   ],
   "source": [
    "from math import sqrt\n",
    "\n",
    "tfinal = sqrt(2*h/9.8)\n",
    "print(\"O tempo que a bola levará para chegar até o chão será\",tfinal,\"segundos\")"
   ]
  },
  {
   "cell_type": "code",
   "execution_count": null,
   "metadata": {
    "collapsed": true
   },
   "outputs": [],
   "source": []
  }
 ],
 "metadata": {
  "anaconda-cloud": {},
  "kernelspec": {
   "display_name": "Python [default]",
   "language": "python",
   "name": "python3"
  },
  "language_info": {
   "codemirror_mode": {
    "name": "ipython",
    "version": 3
   },
   "file_extension": ".py",
   "mimetype": "text/x-python",
   "name": "python",
   "nbconvert_exporter": "python",
   "pygments_lexer": "ipython3",
   "version": "3.5.2"
  }
 },
 "nbformat": 4,
 "nbformat_minor": 1
}
